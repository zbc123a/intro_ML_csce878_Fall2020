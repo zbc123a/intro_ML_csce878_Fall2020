{
 "metadata": {
  "language_info": {
   "codemirror_mode": {
    "name": "ipython",
    "version": 3
   },
   "file_extension": ".py",
   "mimetype": "text/x-python",
   "name": "python",
   "nbconvert_exporter": "python",
   "pygments_lexer": "ipython3",
   "version": "3.7.7-final"
  },
  "orig_nbformat": 2,
  "kernelspec": {
   "name": "Python 3.7.7 64-bit ('mywork': conda)",
   "display_name": "Python 3.7.7 64-bit ('mywork': conda)",
   "metadata": {
    "interpreter": {
     "hash": "5eec84f207a1abab66c0c63ecaf6d045c870a802617dec942ce23a9774445dce"
    }
   }
  }
 },
 "nbformat": 4,
 "nbformat_minor": 2,
 "cells": [
  {
   "source": [
    "# Naive Bayes Classifier"
   ],
   "cell_type": "markdown",
   "metadata": {}
  },
  {
   "source": [
    "## Multinomial Naive Bayes"
   ],
   "cell_type": "markdown",
   "metadata": {}
  },
  {
   "cell_type": "code",
   "execution_count": 1,
   "metadata": {},
   "outputs": [
    {
     "output_type": "error",
     "ename": "SyntaxError",
     "evalue": "unexpected EOF while parsing (<ipython-input-1-6f27c9537a1c>, line 21)",
     "traceback": [
      "\u001b[1;36m  File \u001b[1;32m\"<ipython-input-1-6f27c9537a1c>\"\u001b[1;36m, line \u001b[1;32m21\u001b[0m\n\u001b[1;33m    \u001b[0m\n\u001b[1;37m    ^\u001b[0m\n\u001b[1;31mSyntaxError\u001b[0m\u001b[1;31m:\u001b[0m unexpected EOF while parsing\n"
     ]
    }
   ],
   "source": [
    "class Multinomial_NB:\n",
    "    def __init__(self, alpha = 1.0):\n",
    "        '''Initialization function to instantiate the class.'''\n",
    "        self.alpha = alpha\n",
    "    def fit(self, X, Y):\n",
    "        '''\n",
    "        Input\n",
    "        X: ndarray, A numpy array with rows representing data samples and columns\n",
    "        representing numerical features.\n",
    "        Y: ndarray, A 1D numpy array with labels corresponding to each row of the feature\n",
    "        matrix X.\n",
    "        '''\n",
    "        # define basic parameters\n",
    "        self.X = X\n",
    "        self.y = Y\n",
    "        self.classes = np.unique(Y,return_counts = True)\n",
    "        self.classes_num = len(self.classes[0])\n",
    "        rows, cols = X.shape\n",
    "        sum_alpha = self.classes_num*alpha\n",
    "        for i in range(self.classes):\n",
    "            counts_classes = self.classes[1][i]\n",
    "            self.prop[i] = (self.alpha+counts_classes)/(rows+sum_alpha)\n",
    "        "
   ]
  },
  {
   "cell_type": "code",
   "execution_count": null,
   "metadata": {},
   "outputs": [],
   "source": []
  }
 ]
}